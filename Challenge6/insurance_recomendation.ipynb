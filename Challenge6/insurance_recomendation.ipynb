{
    "cells": [
        {
            "cell_type": "markdown",
            "metadata": {},
            "source": [
                "# Challenge 6: Personalized Insurance Recommendations\n",
                "\n",
                "## Introduction\n",
                "Welcome to Challenge 6! In this challenge, we will guide you through building a personalized insurance recommendation system. Even if many of these concepts are new, don’t worry – each step is explained in detail.\n",
                "\n",
                "In this challenge, you'll learn how to:\n",
                "* **Retrieve Data:** Query and process loan application data from a Cosmos DB. Cosmos DB is a globally distributed NoSQL database that stores data in JSON format.\n",
                "* **Generate Recommendations:** Use basic business logic to generate insurance recommendations based on loan details like the loan amount, type, and the borrower’s age.\n",
                "* **AI Integration:** Integrate our functions with Semantic Kernel—a tool that helps organize tasks and calls intelligent services (powered by Azure OpenAI) to produce automated recommendations.\n",
                "\n",
                "Each step includes detailed inline commentary to help you understand what is happening, so take your time reading through the comments!"
            ]
        },
        {
            "cell_type": "markdown",
            "metadata": {},
            "source": [
                "## Step 1: Environment Setup\n",
                "\n",
                "In this first step, we import the required Python libraries and set up our connections to the Azure services. Here’s what happens:\n",
                "- **semantic_kernel:** A library that helps combine functions into a single intelligent agent.\n",
                "- **Azure OpenAI Chat Service:** Connects us to an AI model that will help generate recommendations.\n",
                "- **Azure Cosmos DB client:** Used to securely connect to our database which contains your loan documents in JSON format.\n",
                "- **dotenv:** Loads environment variables from a `.env` file. Ensure that your `.env` file includes keys such as `COSMOS_ENDPOINT`, `COSMOS_KEY`, `AZURE_OPENAI_DEPLOYMENT_NAME`, `AZURE_OPENAI_KEY`, and `AZURE_OPENAI_ENDPOINT`.\n",
                "\n",
                "With these environment settings, your code will securely authenticate with the relevant services and remain portable."
            ]
        },
        {
            "cell_type": "code",
            "execution_count": 1,
            "metadata": {},
            "outputs": [],
            "source": [
                "from azure.cosmos import CosmosClient, PartitionKey\n",
                "import os\n",
                "import json\n",
                "from dotenv import load_dotenv\n",
                "from typing import Annotated\n",
                "\n",
                "# Load environment variables\n",
                "load_dotenv()\n",
                "\n",
                "# Azure service configuration\n",
                "cosmos_endpoint = os.getenv('COSMOS_ENDPOINT')\n",
                "cosmos_key = os.getenv('COSMOS_KEY')\n",
                "database_name = \"ContosoDB\"\n",
                "openai_deployment = os.getenv(\"AZURE_OPENAI_DEPLOYMENT_NAME\")\n",
                "openai_api_key = os.getenv(\"AZURE_OPENAI_KEY\")\n",
                "openai_endpoint = os.getenv(\"AZURE_OPENAI_ENDPOINT\")\n",
                "\n",
                "# Initialize Cosmos client\n",
                "client = CosmosClient(cosmos_endpoint, cosmos_key)\n",
                "database = client.get_database_client(database_name)"
            ]
        },
        {
            "cell_type": "markdown",
            "metadata": {},
            "source": [
                "## Step 2: Data Retrieval Functions\n",
                "\n",
                "We now define functions to query our Cosmos DB for specific types of data. This step is critical because:\n",
                "- **`get_loan_applicant_info`:** This function retrieves a loan application by matching the applicant's name from the 'LoanForms' container.\n",
                "- **`get_paystub_info`:** This function queries the 'PayStubs' container in Cosmos DB to get paystub information using the employee's name.\n",
                "\n",
                "Both functions use try/except blocks so that any errors (such as connection issues) are caught and printed. Detailed inline comments in the code will explain each part of the query process."
            ]
        },
        {
            "cell_type": "code",
            "execution_count": 27,
            "metadata": {},
            "outputs": [
                {
                    "name": "stdout",
                    "output_type": "stream",
                    "text": [
                        "Defaulting to user installation because normal site-packages is not writeable\n",
                        "Requirement already satisfied: semantic-kernel in /home/vscode/.local/lib/python3.11/site-packages (1.21.2)\n",
                        "Requirement already satisfied: azure-identity in /home/vscode/.local/lib/python3.11/site-packages (1.20.0)\n",
                        "Requirement already satisfied: azure-cosmos in /home/vscode/.local/lib/python3.11/site-packages (4.9.0)\n",
                        "Requirement already satisfied: python-dotenv in /home/vscode/.local/lib/python3.11/site-packages (1.0.1)\n",
                        "Requirement already satisfied: aiohttp~=3.8 in /home/vscode/.local/lib/python3.11/site-packages (from semantic-kernel) (3.11.12)\n",
                        "Requirement already satisfied: cloudevents~=1.0 in /home/vscode/.local/lib/python3.11/site-packages (from semantic-kernel) (1.11.0)\n",
                        "Requirement already satisfied: pydantic!=2.10.0,!=2.10.1,!=2.10.2,!=2.10.3,<2.11,>=2.0 in /home/vscode/.local/lib/python3.11/site-packages (from semantic-kernel) (2.10.6)\n",
                        "Requirement already satisfied: pydantic-settings~=2.0 in /home/vscode/.local/lib/python3.11/site-packages (from semantic-kernel) (2.7.1)\n",
                        "Requirement already satisfied: defusedxml~=0.7 in /home/vscode/.local/lib/python3.11/site-packages (from semantic-kernel) (0.7.1)\n",
                        "Requirement already satisfied: numpy>=1.25.0 in /home/vscode/.local/lib/python3.11/site-packages (from semantic-kernel) (2.2.3)\n",
                        "Requirement already satisfied: openai~=1.61 in /home/vscode/.local/lib/python3.11/site-packages (from semantic-kernel) (1.63.2)\n",
                        "Requirement already satisfied: openapi_core<0.20,>=0.18 in /home/vscode/.local/lib/python3.11/site-packages (from semantic-kernel) (0.19.4)\n",
                        "Requirement already satisfied: opentelemetry-api~=1.24 in /home/vscode/.local/lib/python3.11/site-packages (from semantic-kernel) (1.30.0)\n",
                        "Requirement already satisfied: opentelemetry-sdk~=1.24 in /home/vscode/.local/lib/python3.11/site-packages (from semantic-kernel) (1.30.0)\n",
                        "Requirement already satisfied: prance~=23.6.21.0 in /home/vscode/.local/lib/python3.11/site-packages (from semantic-kernel) (23.6.21.0)\n",
                        "Requirement already satisfied: pybars4~=0.9 in /home/vscode/.local/lib/python3.11/site-packages (from semantic-kernel) (0.9.13)\n",
                        "Requirement already satisfied: jinja2~=3.1 in /home/vscode/.local/lib/python3.11/site-packages (from semantic-kernel) (3.1.5)\n",
                        "Requirement already satisfied: nest-asyncio~=1.6 in /home/vscode/.local/lib/python3.11/site-packages (from semantic-kernel) (1.6.0)\n",
                        "Requirement already satisfied: scipy>=1.15.1 in /home/vscode/.local/lib/python3.11/site-packages (from semantic-kernel) (1.15.2)\n",
                        "Requirement already satisfied: azure-core>=1.31.0 in /home/vscode/.local/lib/python3.11/site-packages (from azure-identity) (1.32.0)\n",
                        "Requirement already satisfied: cryptography>=2.5 in /home/vscode/.local/lib/python3.11/site-packages (from azure-identity) (44.0.1)\n",
                        "Requirement already satisfied: msal>=1.30.0 in /home/vscode/.local/lib/python3.11/site-packages (from azure-identity) (1.31.1)\n",
                        "Requirement already satisfied: msal-extensions>=1.2.0 in /home/vscode/.local/lib/python3.11/site-packages (from azure-identity) (1.2.0)\n",
                        "Requirement already satisfied: typing-extensions>=4.0.0 in /home/vscode/.local/lib/python3.11/site-packages (from azure-identity) (4.12.2)\n",
                        "Requirement already satisfied: aiohappyeyeballs>=2.3.0 in /home/vscode/.local/lib/python3.11/site-packages (from aiohttp~=3.8->semantic-kernel) (2.4.6)\n",
                        "Requirement already satisfied: aiosignal>=1.1.2 in /home/vscode/.local/lib/python3.11/site-packages (from aiohttp~=3.8->semantic-kernel) (1.3.2)\n",
                        "Requirement already satisfied: attrs>=17.3.0 in /home/vscode/.local/lib/python3.11/site-packages (from aiohttp~=3.8->semantic-kernel) (25.1.0)\n",
                        "Requirement already satisfied: frozenlist>=1.1.1 in /home/vscode/.local/lib/python3.11/site-packages (from aiohttp~=3.8->semantic-kernel) (1.5.0)\n",
                        "Requirement already satisfied: multidict<7.0,>=4.5 in /home/vscode/.local/lib/python3.11/site-packages (from aiohttp~=3.8->semantic-kernel) (6.1.0)\n",
                        "Requirement already satisfied: propcache>=0.2.0 in /home/vscode/.local/lib/python3.11/site-packages (from aiohttp~=3.8->semantic-kernel) (0.2.1)\n",
                        "Requirement already satisfied: yarl<2.0,>=1.17.0 in /home/vscode/.local/lib/python3.11/site-packages (from aiohttp~=3.8->semantic-kernel) (1.18.3)\n",
                        "Requirement already satisfied: requests>=2.21.0 in /home/vscode/.local/lib/python3.11/site-packages (from azure-core>=1.31.0->azure-identity) (2.32.3)\n",
                        "Requirement already satisfied: six>=1.11.0 in /home/vscode/.local/lib/python3.11/site-packages (from azure-core>=1.31.0->azure-identity) (1.17.0)\n",
                        "Requirement already satisfied: deprecation<3.0,>=2.0 in /home/vscode/.local/lib/python3.11/site-packages (from cloudevents~=1.0->semantic-kernel) (2.1.0)\n",
                        "Requirement already satisfied: cffi>=1.12 in /home/vscode/.local/lib/python3.11/site-packages (from cryptography>=2.5->azure-identity) (1.17.1)\n",
                        "Requirement already satisfied: MarkupSafe>=2.0 in /home/vscode/.local/lib/python3.11/site-packages (from jinja2~=3.1->semantic-kernel) (3.0.2)\n",
                        "Requirement already satisfied: PyJWT<3,>=1.0.0 in /home/vscode/.local/lib/python3.11/site-packages (from PyJWT[crypto]<3,>=1.0.0->msal>=1.30.0->azure-identity) (2.10.1)\n",
                        "Requirement already satisfied: portalocker<3,>=1.4 in /home/vscode/.local/lib/python3.11/site-packages (from msal-extensions>=1.2.0->azure-identity) (2.10.1)\n",
                        "Requirement already satisfied: anyio<5,>=3.5.0 in /home/vscode/.local/lib/python3.11/site-packages (from openai~=1.61->semantic-kernel) (4.8.0)\n",
                        "Requirement already satisfied: distro<2,>=1.7.0 in /home/vscode/.local/lib/python3.11/site-packages (from openai~=1.61->semantic-kernel) (1.9.0)\n",
                        "Requirement already satisfied: httpx<1,>=0.23.0 in /home/vscode/.local/lib/python3.11/site-packages (from openai~=1.61->semantic-kernel) (0.28.1)\n",
                        "Requirement already satisfied: jiter<1,>=0.4.0 in /home/vscode/.local/lib/python3.11/site-packages (from openai~=1.61->semantic-kernel) (0.8.2)\n",
                        "Requirement already satisfied: sniffio in /home/vscode/.local/lib/python3.11/site-packages (from openai~=1.61->semantic-kernel) (1.3.1)\n",
                        "Requirement already satisfied: tqdm>4 in /home/vscode/.local/lib/python3.11/site-packages (from openai~=1.61->semantic-kernel) (4.67.1)\n",
                        "Requirement already satisfied: isodate in /home/vscode/.local/lib/python3.11/site-packages (from openapi_core<0.20,>=0.18->semantic-kernel) (0.7.2)\n",
                        "Requirement already satisfied: jsonschema<5.0.0,>=4.18.0 in /home/vscode/.local/lib/python3.11/site-packages (from openapi_core<0.20,>=0.18->semantic-kernel) (4.23.0)\n",
                        "Requirement already satisfied: jsonschema-path<0.4.0,>=0.3.1 in /home/vscode/.local/lib/python3.11/site-packages (from openapi_core<0.20,>=0.18->semantic-kernel) (0.3.4)\n",
                        "Requirement already satisfied: more-itertools in /home/vscode/.local/lib/python3.11/site-packages (from openapi_core<0.20,>=0.18->semantic-kernel) (10.6.0)\n",
                        "Requirement already satisfied: openapi-schema-validator<0.7.0,>=0.6.0 in /home/vscode/.local/lib/python3.11/site-packages (from openapi_core<0.20,>=0.18->semantic-kernel) (0.6.3)\n",
                        "Requirement already satisfied: openapi-spec-validator<0.8.0,>=0.7.1 in /home/vscode/.local/lib/python3.11/site-packages (from openapi_core<0.20,>=0.18->semantic-kernel) (0.7.1)\n",
                        "Requirement already satisfied: parse in /home/vscode/.local/lib/python3.11/site-packages (from openapi_core<0.20,>=0.18->semantic-kernel) (1.20.2)\n",
                        "Requirement already satisfied: werkzeug in /home/vscode/.local/lib/python3.11/site-packages (from openapi_core<0.20,>=0.18->semantic-kernel) (3.1.3)\n",
                        "Requirement already satisfied: deprecated>=1.2.6 in /home/vscode/.local/lib/python3.11/site-packages (from opentelemetry-api~=1.24->semantic-kernel) (1.2.18)\n",
                        "Requirement already satisfied: importlib-metadata<=8.5.0,>=6.0 in /home/vscode/.local/lib/python3.11/site-packages (from opentelemetry-api~=1.24->semantic-kernel) (8.5.0)\n",
                        "Requirement already satisfied: opentelemetry-semantic-conventions==0.51b0 in /home/vscode/.local/lib/python3.11/site-packages (from opentelemetry-sdk~=1.24->semantic-kernel) (0.51b0)\n",
                        "Requirement already satisfied: chardet>=3.0 in /home/vscode/.local/lib/python3.11/site-packages (from prance~=23.6.21.0->semantic-kernel) (5.2.0)\n",
                        "Requirement already satisfied: ruamel.yaml>=0.17.10 in /home/vscode/.local/lib/python3.11/site-packages (from prance~=23.6.21.0->semantic-kernel) (0.18.10)\n",
                        "Requirement already satisfied: packaging>=21.3 in /home/vscode/.local/lib/python3.11/site-packages (from prance~=23.6.21.0->semantic-kernel) (24.2)\n",
                        "Requirement already satisfied: PyMeta3>=0.5.1 in /home/vscode/.local/lib/python3.11/site-packages (from pybars4~=0.9->semantic-kernel) (0.5.1)\n",
                        "Requirement already satisfied: annotated-types>=0.6.0 in /home/vscode/.local/lib/python3.11/site-packages (from pydantic!=2.10.0,!=2.10.1,!=2.10.2,!=2.10.3,<2.11,>=2.0->semantic-kernel) (0.7.0)\n",
                        "Requirement already satisfied: pydantic-core==2.27.2 in /home/vscode/.local/lib/python3.11/site-packages (from pydantic!=2.10.0,!=2.10.1,!=2.10.2,!=2.10.3,<2.11,>=2.0->semantic-kernel) (2.27.2)\n",
                        "Requirement already satisfied: idna>=2.8 in /home/vscode/.local/lib/python3.11/site-packages (from anyio<5,>=3.5.0->openai~=1.61->semantic-kernel) (3.10)\n",
                        "Requirement already satisfied: pycparser in /home/vscode/.local/lib/python3.11/site-packages (from cffi>=1.12->cryptography>=2.5->azure-identity) (2.22)\n",
                        "Requirement already satisfied: wrapt<2,>=1.10 in /home/vscode/.local/lib/python3.11/site-packages (from deprecated>=1.2.6->opentelemetry-api~=1.24->semantic-kernel) (1.17.2)\n",
                        "Requirement already satisfied: certifi in /home/vscode/.local/lib/python3.11/site-packages (from httpx<1,>=0.23.0->openai~=1.61->semantic-kernel) (2025.1.31)\n",
                        "Requirement already satisfied: httpcore==1.* in /home/vscode/.local/lib/python3.11/site-packages (from httpx<1,>=0.23.0->openai~=1.61->semantic-kernel) (1.0.7)\n",
                        "Requirement already satisfied: h11<0.15,>=0.13 in /home/vscode/.local/lib/python3.11/site-packages (from httpcore==1.*->httpx<1,>=0.23.0->openai~=1.61->semantic-kernel) (0.14.0)\n",
                        "Requirement already satisfied: zipp>=3.20 in /home/vscode/.local/lib/python3.11/site-packages (from importlib-metadata<=8.5.0,>=6.0->opentelemetry-api~=1.24->semantic-kernel) (3.21.0)\n",
                        "Requirement already satisfied: jsonschema-specifications>=2023.03.6 in /home/vscode/.local/lib/python3.11/site-packages (from jsonschema<5.0.0,>=4.18.0->openapi_core<0.20,>=0.18->semantic-kernel) (2024.10.1)\n",
                        "Requirement already satisfied: referencing>=0.28.4 in /home/vscode/.local/lib/python3.11/site-packages (from jsonschema<5.0.0,>=4.18.0->openapi_core<0.20,>=0.18->semantic-kernel) (0.36.2)\n",
                        "Requirement already satisfied: rpds-py>=0.7.1 in /home/vscode/.local/lib/python3.11/site-packages (from jsonschema<5.0.0,>=4.18.0->openapi_core<0.20,>=0.18->semantic-kernel) (0.22.3)\n",
                        "Requirement already satisfied: PyYAML>=5.1 in /home/vscode/.local/lib/python3.11/site-packages (from jsonschema-path<0.4.0,>=0.3.1->openapi_core<0.20,>=0.18->semantic-kernel) (6.0.2)\n",
                        "Requirement already satisfied: pathable<0.5.0,>=0.4.1 in /home/vscode/.local/lib/python3.11/site-packages (from jsonschema-path<0.4.0,>=0.3.1->openapi_core<0.20,>=0.18->semantic-kernel) (0.4.4)\n",
                        "Requirement already satisfied: rfc3339-validator in /home/vscode/.local/lib/python3.11/site-packages (from openapi-schema-validator<0.7.0,>=0.6.0->openapi_core<0.20,>=0.18->semantic-kernel) (0.1.4)\n",
                        "Requirement already satisfied: lazy-object-proxy<2.0.0,>=1.7.1 in /home/vscode/.local/lib/python3.11/site-packages (from openapi-spec-validator<0.8.0,>=0.7.1->openapi_core<0.20,>=0.18->semantic-kernel) (1.10.0)\n",
                        "Requirement already satisfied: charset-normalizer<4,>=2 in /home/vscode/.local/lib/python3.11/site-packages (from requests>=2.21.0->azure-core>=1.31.0->azure-identity) (3.4.1)\n",
                        "Requirement already satisfied: urllib3<3,>=1.21.1 in /home/vscode/.local/lib/python3.11/site-packages (from requests>=2.21.0->azure-core>=1.31.0->azure-identity) (2.3.0)\n",
                        "Requirement already satisfied: ruamel.yaml.clib>=0.2.7 in /home/vscode/.local/lib/python3.11/site-packages (from ruamel.yaml>=0.17.10->prance~=23.6.21.0->semantic-kernel) (0.2.12)\n",
                        "\n",
                        "\u001b[1m[\u001b[0m\u001b[34;49mnotice\u001b[0m\u001b[1;39;49m]\u001b[0m\u001b[39;49m A new release of pip is available: \u001b[0m\u001b[31;49m24.0\u001b[0m\u001b[39;49m -> \u001b[0m\u001b[32;49m25.0.1\u001b[0m\n",
                        "\u001b[1m[\u001b[0m\u001b[34;49mnotice\u001b[0m\u001b[1;39;49m]\u001b[0m\u001b[39;49m To update, run: \u001b[0m\u001b[32;49mpip install --upgrade pip\u001b[0m\n"
                    ]
                }
            ],
            "source": [
                "#First we install the required libraries\n",
                "\n",
                "!pip install semantic-kernel azure-identity azure-cosmos python-dotenv"
            ]
        },
        {
            "cell_type": "code",
            "execution_count": 28,
            "metadata": {},
            "outputs": [],
            "source": [
                "import semantic_kernel as sk\n",
                "from semantic_kernel.connectors.ai.open_ai import AzureChatCompletion\n",
                "from semantic_kernel.functions.kernel_arguments import KernelArguments\n",
                "from semantic_kernel.functions.kernel_function_decorator import kernel_function\n",
                "from semantic_kernel.kernel import Kernel\n",
                "from semantic_kernel.agents import ChatCompletionAgent\n",
                "from semantic_kernel.connectors.ai.open_ai import OpenAIChatCompletion\n",
                "from semantic_kernel.contents import ChatHistory\n",
                "from semantic_kernel.connectors.ai import FunctionChoiceBehavior"
            ]
        },
        {
            "cell_type": "code",
            "execution_count": 3,
            "metadata": {},
            "outputs": [],
            "source": [
                "@kernel_function(description=\"Retrieves loan application information for a given applicant.\", name=\"get_loan_applicant_info\")\n",
                "def get_loan_applicant_info(applicant_name: Annotated[str, \"The name of the loan applicant to retrieve information for.\"]) -> Annotated[str, \"The JSON string containing loan application data.\"]:\n",
                "    \"\"\"Retrieves loan application information for a given applicant.\n",
                "    \n",
                "    Args:\n",
                "        applicant_name (str): Name of the loan applicant\n",
                "        \n",
                "    Returns:\n",
                "        str: JSON string containing loan application data\n",
                "    \"\"\"\n",
                "    try:\n",
                "        container = database.get_container_client(\"LoanForms\")\n",
                "        query = f\"SELECT * FROM c WHERE c.content[0][\\\"Full Name\\\"] = '{applicant_name}'\"\n",
                "        items = list(container.query_items(query, enable_cross_partition_query=True))\n",
                "        return json.dumps(items[0]) if items else \"{}\"\n",
                "    except Exception as e:\n",
                "        print(f\"Error retrieving loan application: {str(e)}\")\n",
                "        return \"{}\""
            ]
        },
        {
            "cell_type": "code",
            "execution_count": 4,
            "metadata": {},
            "outputs": [],
            "source": [
                "@kernel_function(description=\"Retrieves paystub information for a given employee.\", name=\"get_paystub_info\")\n",
                "def get_paystub_info(employee_name: Annotated[str, \"The name of the employee to retrieve paystub information for.\"]) -> Annotated[str, \"The JSON string containing paystub data.\"]:\n",
                "    \"\"\"Retrieves paystub information for a given employee.\n",
                "    \n",
                "    Args:\n",
                "        employee_name (str): Name of the employee\n",
                "        \n",
                "    Returns:\n",
                "        str: JSON string containing paystub data\n",
                "    \"\"\"\n",
                "    try:\n",
                "        container = database.get_container_client(\"PayStubs\")\n",
                "        query = f\"SELECT * FROM c WHERE c.content['pay stub details']['Employee Name'] = '{employee_name}'\"\n",
                "        items = list(container.query_items(query, enable_cross_partition_query=True))\n",
                "        return json.dumps(items) if items else f\"No paystub information found for {employee_name}.\"\n",
                "    except Exception as e:\n",
                "        print(f\"Error retrieving paystub: {str(e)}\")\n",
                "        return \"\""
            ]
        },
        {
            "cell_type": "code",
            "execution_count": 5,
            "metadata": {},
            "outputs": [
                {
                    "data": {
                        "text/plain": [
                            "'{\"id\": \"100001\", \"content\": [{\"id\": \"100001\", \"Full Name\": \"Jane Elizabeth Smith\", \"Date of Birth\": \"08/22/1990\", \"Social Security Number\": \"987-65-4321\", \"Contact Number\": \"(555) 234-5678\", \"Email Address\": \"jane.smith90@example.com\", \"Physical Address\": \"456 Oak Avenue Unit 10 Madison WI 53703\", \"Loan Amount Requested\": \"40000\", \"Purpose of Loan\": \"Vehicle Purchase\", \"Loan Term Desired\": \"5 years Applicant\\'s Signature: Jz\", \"Employer Name\": \"Horizon Retailers\", \"Position\": \"Store Manager \", \"Employment Duration\": \"3 years \", \"Monthly Income\": \"$4583.33 \", \"Employer Contact Number\": \"(555) 789- 2345\"}], \"_rid\": \"R-YcAONky8EBAAAAAAAAAA==\", \"_self\": \"dbs/R-YcAA==/colls/R-YcAONky8E=/docs/R-YcAONky8EBAAAAAAAAAA==/\", \"_etag\": \"\\\\\"e100150c-0000-4700-0000-67b0bfbf0000\\\\\"\", \"_attachments\": \"attachments/\", \"_ts\": 1739636671}'"
                        ]
                    },
                    "execution_count": 5,
                    "metadata": {},
                    "output_type": "execute_result"
                }
            ],
            "source": [
                "get_loan_applicant_info(\"Jane Elizabeth Smith\")"
            ]
        },
        {
            "cell_type": "code",
            "execution_count": 6,
            "metadata": {},
            "outputs": [],
            "source": [
                "# retrieve loan agreement\n",
                "@kernel_function(description=\"Retrieves loan agreement information for a given applicant.\", name=\"get_loan_agreement_info\")\n",
                "def get_loan_agreement_info(applicant_name: Annotated[str, \"The name of the loan applicant to retrieve agreement information for.\"]) -> Annotated[str, \"The JSON string containing loan agreement data.\"]:\n",
                "    \"\"\"Retrieves loan agreement information for a given applicant.\n",
                "    \n",
                "    Args:\n",
                "        applicant_name (str): Name of the loan applicant\n",
                "    \n",
                "    Returns:\n",
                "        str: JSON string containing loan agreement data\n",
                "    \"\"\"\n",
                "    try:\n",
                "        container = database.get_container_client(\"LoanAgreements\")\n",
                "        query = f\"SELECT * FROM c WHERE c.content.borrower_informaiton like '%{applicant_name}%'\"\n",
                "        items = list(container.query_items(query, enable_cross_partition_query=True))\n",
                "        return json.dumps(items[0]) if items else \"{}\"\n",
                "    except Exception as e:\n",
                "        print(f\"Error retrieving loan agreement: {str(e)}\")\n",
                "        return \"{}\"\n",
                "    "
            ]
        },
        {
            "cell_type": "markdown",
            "metadata": {},
            "source": [
                "## Step 3: Insurance Recommendation Function\n",
                "\n",
                "This cell introduces the `recommend_insurance` function. Here’s what it does:\n",
                "- It accepts the loan amount, type, and the borrower’s age as inputs.\n",
                "- It converts the loan amount (given as a string like \"$20,000\") into a numeric value so that comparisons can be made.\n",
                "- Using conditional logic, it returns a recommended set of insurance products. For example, for larger personal loans or mortgages, different recommendations are made.\n",
                "\n",
                "Remember: This is a simplified example. In production, you might have more complex rules. The inline comments explain every branch of the logic to help you follow along."
            ]
        },
        {
            "cell_type": "code",
            "execution_count": 7,
            "metadata": {},
            "outputs": [],
            "source": [
                "@kernel_function(description=\"Recommends insurance products based on loan details and borrower profile.\", name=\"recommend_insurance\")\n",
                "def recommend_insurance(loan_amount: Annotated[str, \"The amount of the loan as a string with a dollar sign and commas.\"], loan_type: Annotated[str, \"The type of loan (e.g., 'Personal Loan', 'Mortgage', 'Auto Loan', 'Business Loan', 'Student Loan').\"], borrower_age: Annotated[int, \"The age of the borrower.\"]) -> Annotated[str, \"The recommended insurance products as a string.\"]:\n",
                "    \"\"\"Recommends insurance products based on loan details and borrower profile.\n",
                "\n",
                "    Args:\n",
                "        loan_amount (str): Amount of the loan\n",
                "        loan_type (str): Type of loan (Personal Loan, Mortgage, Auto Loan, Business Loan, or Student Loan)\n",
                "        borrower_age (int): Age of the borrower\n",
                "\n",
                "    Returns:\n",
                "        str: Insurance recommendation message\n",
                "    \"\"\"\n",
                "    try:\n",
                "        loan_amount_value = float(\n",
                "            loan_amount.replace('$', '').replace(',', ''))\n",
                "\n",
                "        if loan_type == \"Personal Loan\":\n",
                "            if loan_amount_value > 10000:\n",
                "                if borrower_age > 50:\n",
                "                    return \"Recommended Insurance: Contoso LifeGuard Plus, Contoso Personal Shield Elite\"\n",
                "                return \"Recommended Insurance: Contoso Personal Shield Standard\"\n",
                "            return \"Recommended Insurance: Contoso Personal Shield Basic\"\n",
                "\n",
                "        elif loan_type == \"Mortgage\":\n",
                "            if loan_amount_value > 200000:\n",
                "                return \"Recommended Insurance: Contoso HomeGuard Premium, Contoso MortgageShield Plus\"\n",
                "            return \"Recommended Insurance: Contoso HomeGuard Essential, Contoso MortgageShield Basic (optional)\"\n",
                "\n",
                "        elif loan_type == \"Auto Loan\":\n",
                "            if loan_amount_value > 30000:\n",
                "                return \"Recommended Insurance: Contoso AutoGuard Elite, Contoso ValueGap Plus, Contoso ExtendedCare Premium\"\n",
                "            elif loan_amount_value > 15000:\n",
                "                return \"Recommended Insurance: Contoso AutoGuard Plus, Contoso ValueGap Standard\"\n",
                "            return \"Recommended Insurance: Contoso AutoGuard Basic\"\n",
                "\n",
                "        elif loan_type == \"Business Loan\":\n",
                "            if loan_amount_value > 100000:\n",
                "                return \"Recommended Insurance: Contoso BusinessShield Premium, Contoso KeyTalent Protect, Contoso BusinessContinuity Plus\"\n",
                "            return \"Recommended Insurance: Contoso BusinessShield Essential\"\n",
                "\n",
                "        elif loan_type == \"Student Loan\":\n",
                "            if borrower_age < 25:\n",
                "                return \"Recommended Insurance: Contoso StudentGuard Plus, Contoso HealthEssentials\"\n",
                "            return \"Recommended Insurance: Contoso StudentGuard Basic\"\n",
                "\n",
                "        return \"Recommended Insurance: Schedule a consultation with a Contoso Insurance Advisor for personalized recommendations.\"\n",
                "    except ValueError as e:\n",
                "        print(f\"Error processing loan amount: {str(e)}\")\n",
                "        return \"Error: Unable to process loan amount\"\n",
                "    except Exception as e:\n",
                "        print(f\"Error generating recommendation: {str(e)}\")\n",
                "        return \"Error: Unable to generate recommendation\""
            ]
        },
        {
            "cell_type": "markdown",
            "metadata": {},
            "source": [
                "## Deep Dive: What is Semantic Kernel?\n",
                "\n",
                "Semantic Kernel is a powerful, modular SDK developed by Microsoft that enables you to easily integrate advanced AI models into your applications. It acts as a middleware layer that enables your native code to interact with external AI services. Here are the key components and ideas behind it:\n",
                "\n",
                "- **Kernel:** The heart of the Semantic Kernel. This is where you register all your connectors (which link your application to AI services) and plugins (which are modular units of native code that execute specific tasks). The kernel orchestrates all the interactions required by your AI workflow.\n",
                "\n",
                "- **Agents:** Instead of relying on rigid sequential workflows, AI agents enable dynamic decision-making. Agents can interactively synthesize responses by invoking registered functions on-the-fly, enabling flexible and context-aware responses.\n",
                "\n",
                "- **Connectors:** These are the bridges between your application and remote AI services—for example, the Azure OpenAI Chat service. They handle the communication, data formatting, and authentication required to make API calls.\n",
                "\n",
                "- **Plugins (or Skills):** Modular functions that perform specific tasks. By grouping related native functions into plugins, the AI component can invoke these functions seamlessly during execution.\n",
                "\n",
                "The strength of Semantic Kernel lies in its ability to combine your existing code with state-of-the-art AI models. It’s designed to be flexible and future‑proof: whether you’re working with models from Microsoft, OpenAI, or even Hugging Face, you can swap them out without rewriting your entire codebase."
            ]
        },
        {
            "cell_type": "markdown",
            "metadata": {},
            "source": [
                "## Step 4: Semantic Kernel Integration\n",
                "\n",
                "Semantic Kernel is a framework that helps us orchestrate multiple functions into an intelligent workflow. In this step:\n",
                "- We initialize the Semantic Kernel instance.\n",
                "- We add the Azure OpenAI Chat service to enable intelligent text processing.\n",
                "- Our custom functions (`get_loan_applicant_info`, `get_paystub_info`, and `recommend_insurance`) are registered as a plugin so that the Semantic Kernel can use them to plan and execute tasks.\n",
                "\n",
                "If you’re new to concepts like async programming (you’ll see `await` later) or AI orchestration, read through the inline comments—the code walks you through how these components are connected."
            ]
        },
        {
            "cell_type": "code",
            "execution_count": 8,
            "metadata": {},
            "outputs": [],
            "source": [
                "# Initialize Semantic Kernel\n",
                "kernel = sk.Kernel()\n",
                "\n",
                "# Add Azure OpenAI service\n",
                "deployment = AzureChatCompletion(\n",
                "    service_id=\"default\",\n",
                "    deployment_name=\"gpt-4o\",\n",
                "    endpoint=openai_endpoint,\n",
                "    api_key=openai_api_key\n",
                ")\n",
                "kernel.add_service(deployment)\n",
                "\n",
                "# Register functions as plugin\n",
                "plugin = kernel.add_functions(\n",
                "    plugin_name=\"LoanAndInsurancePlugin\",\n",
                "    functions=[\n",
                "        get_loan_applicant_info,\n",
                "        get_paystub_info,\n",
                "        get_loan_agreement_info,\n",
                "        recommend_insurance\n",
                "    ]\n",
                ")"
            ]
        },
        {
            "cell_type": "markdown",
            "metadata": {},
            "source": [
                "## Step 5: Create and Execute Recommendation Agent\n",
                "\n",
                "Now we define an intelligent agent powered by Semantic Kernel leveraging the Azure OpenAI Chat service to handle the recommendation process. The agent is configured with detailed instructions and a conversation history that includes the customer query:\n",
                "\"Please retrieve loan application and paystub information for 'Jane Elizabeth Smith' and recommend relevant insurance products.\"\n",
                "\n",
                "Instead of using a sequential planner to decompose the task into ordered steps, the agent dynamically synthesizes responses by invoking the appropriate registered functions based on the provided context. When invoked asynchronously, the agent processes the conversation and returns a personalized insurance recommendation crafted with a friendly and professional tone."
            ]
        },
        {
            "cell_type": "code",
            "execution_count": 9,
            "metadata": {},
            "outputs": [
                {
                    "name": "stdout",
                    "output_type": "stream",
                    "text": [
                        "Invoking insurance advisor agent...\n",
                        "# Agent - insurance_advisor: 'Based on the information provided, Jane Elizabeth Smith has applied for a vehicle loan of $40,000 at age 34 and has a stable career as a store manager earning a consistent income. Contoso Insurance has tailored an insurance recommendation to help protect her financial investment.\n",
                        "\n",
                        "<message>\n",
                        "Hi Jane, \n",
                        "\n",
                        "Congratulations on your loan application for your new vehicle! As you prepare for this exciting purchase, Contoso Insurance recommends scheduling a consultation with one of our experienced advisors. We can assist you in selecting insurance coverage tailored to your needs—whether it’s comprehensive auto insurance, gap coverage, or loan protection. We’re here to ensure your financial well-being remains secure. \n",
                        "\n",
                        "Let us know a convenient time for you to chat about the best plan to safeguard your investment. We’re looking forward to helping you drive into the future confidently!\n",
                        "\n",
                        "Best regards,  \n",
                        "The Contoso Insurance Team\n",
                        "</message> \n",
                        "\n",
                        "This recommendation emphasizes the importance of safeguarding her new vehicle and her financial standing. If there's any additional information you'd like me to include or explore, please let me know!'\n"
                    ]
                }
            ],
            "source": [
                "# Get current date\n",
                "current_date = datetime.now().strftime(\"%Y-%m-%d\")\n",
                "\n",
                "# Define agent with name and instructions\n",
                "AGENT_NAME = \"insurance_advisor\" # Changed to use underscores instead of spaces to match pattern\n",
                "AGENT_INSTRUCTIONS = f\"\"\"You are an insurance advisor that helps recommend insurance products based on loan applications.\n",
                "Current date: {current_date}\n",
                "\n",
                "RULES:\n",
                "1. You should always recommend insurance products with information retrieved from 'recommend_insurance' function.\n",
                "2. You will craft the message to be sent to the user, and your response should contain the crafted message inside <message> tags.\n",
                "3. Outside of the <message> tags, you should include other information that is not the crafted message, such as the reasoning behind the recommendation.\n",
                "4. The message tone should be friendly and professional, and the language should be engaging and easy to understand and aligned with Contoso Insurance brand voice.\n",
                "\"\"\"\n",
                "\n",
                "settings = kernel.get_prompt_execution_settings_from_service_id(service_id=\"default\")\n",
                "# Configure the function choice behavior to auto invoke kernel functions\n",
                "settings.function_choice_behavior = FunctionChoiceBehavior.Auto()\n",
                "\n",
                "agent = ChatCompletionAgent(service_id=\"default\", kernel=kernel, name=AGENT_NAME, arguments=KernelArguments(settings=settings))\n",
                "\n",
                "# Define the chat history\n",
                "chat_history = ChatHistory()\n",
                "chat_history.add_system_message(AGENT_INSTRUCTIONS)\n",
                "\n",
                "# Add user request\n",
                "user_input = \"Please retrieve loan application and paystub information for 'Jane Elizabeth Smith' and recommend relevant insurance products.\"\n",
                "chat_history.add_user_message(user_input)\n",
                "\n",
                "print(\"Invoking insurance advisor agent...\")\n",
                "async for content in agent.invoke(chat_history):\n",
                "    chat_history.add_message(content)\n",
                "    print(f\"# Agent - {content.name or '*'}: '{content.content}'\")"
            ]
        },
        {
            "cell_type": "code",
            "execution_count": 10,
            "metadata": {},
            "outputs": [
                {
                    "data": {
                        "text/markdown": [
                            "\n",
                            "Hi Jane, \n",
                            "\n",
                            "Congratulations on your loan application for your new vehicle! As you prepare for this exciting purchase, Contoso Insurance recommends scheduling a consultation with one of our experienced advisors. We can assist you in selecting insurance coverage tailored to your needs—whether it’s comprehensive auto insurance, gap coverage, or loan protection. We’re here to ensure your financial well-being remains secure. \n",
                            "\n",
                            "Let us know a convenient time for you to chat about the best plan to safeguard your investment. We’re looking forward to helping you drive into the future confidently!\n",
                            "\n",
                            "Best regards,  \n",
                            "The Contoso Insurance Team\n"
                        ],
                        "text/plain": [
                            "<IPython.core.display.Markdown object>"
                        ]
                    },
                    "metadata": {},
                    "output_type": "display_data"
                }
            ],
            "source": [
                "# parse the response to get the message that is inside <message> tags\n",
                "import re\n",
                "from IPython.display import display, Markdown\n",
                "\n",
                "\n",
                "# Extract the message from the response\n",
                "message_pattern = r'<message>(.*?)</message>'\n",
                "message_match = re.search(message_pattern, chat_history.messages[-1].content, re.DOTALL)\n",
                "\n",
                "display(Markdown(message_match.group(1)))"
            ]
        },
        {
            "cell_type": "markdown",
            "metadata": {},
            "source": [
                "Now that you have seen the AI Agent in action, try to modify the agent's instructions and get it to create different messages, like "
            ]
        },
        {
            "cell_type": "markdown",
            "metadata": {},
            "source": [
                "## Conclusion\n",
                "\n",
                "In this challenge, you learned how to:\n",
                "* **Retrieve and Process Data:** Extract loan application and paystub information from Cosmos DB.\n",
                "* **Generate Recommendations:** Use simple business logic to make personalized insurance recommendations based on key factors like loan amount, loan type, and borrower age.\n",
                "* **Integrate AI:** Combine your custom functions with Semantic Kernel to orchestrate this workflow and enable intelligent task planning.\n",
                "\n",
                "This challenge might introduce several new technologies and programming concepts, such as working with asynchronous code, integrating external services, and orchestrating complex workflows. Each step is carefully annotated with explanations and inline comments, so refer to these comments if you get stuck or want to understand the logic behind each operation.\n",
                "\n",
                "By the end of this challenge, you should have a strong understanding of how structured data and AI services can be combined to build intelligent applications that automate decision-making processes."
            ]
        }
    ],
    "metadata": {
        "kernelspec": {
            "display_name": "Python 3",
            "language": "python",
            "name": "python3"
        },
        "language_info": {
            "codemirror_mode": {
                "name": "ipython",
                "version": 3
            },
            "file_extension": ".py",
            "mimetype": "text/x-python",
            "name": "python",
            "nbconvert_exporter": "python",
            "pygments_lexer": "ipython3",
            "version": "3.11.11"
        }
    },
    "nbformat": 4,
    "nbformat_minor": 2
}
